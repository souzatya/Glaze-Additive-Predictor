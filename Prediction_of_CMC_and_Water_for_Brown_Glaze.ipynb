{
  "nbformat": 4,
  "nbformat_minor": 0,
  "metadata": {
    "colab": {
      "name": "Prediction_of_CMC_and_Water_for_Brown_Glaze.ipynb",
      "provenance": [],
      "collapsed_sections": [],
      "authorship_tag": "ABX9TyMLRkzkrG7uT7PdB3EBIMvV",
      "include_colab_link": true
    },
    "kernelspec": {
      "name": "python3",
      "display_name": "Python 3"
    },
    "language_info": {
      "name": "python"
    }
  },
  "cells": [
    {
      "cell_type": "markdown",
      "metadata": {
        "id": "view-in-github",
        "colab_type": "text"
      },
      "source": [
        "<a href=\"https://colab.research.google.com/github/souzatya/abi/blob/main/Prediction_of_CMC_and_Water_for_Brown_Glaze.ipynb\" target=\"_parent\"><img src=\"https://colab.research.google.com/assets/colab-badge.svg\" alt=\"Open In Colab\"/></a>"
      ]
    },
    {
      "cell_type": "code",
      "execution_count": 55,
      "metadata": {
        "colab": {
          "base_uri": "https://localhost:8080/"
        },
        "id": "AY-P081tLUcN",
        "outputId": "a9db7f0f-438e-430e-d3dc-d2afdfc83fe4"
      },
      "outputs": [
        {
          "output_type": "stream",
          "name": "stdout",
          "text": [
            "[[  2.18491193 116.18974302]]\n"
          ]
        }
      ],
      "source": [
        "import pandas\n",
        "from sklearn import linear_model\n",
        "\n",
        "df = pandas.read_excel(\"GLAZE_DATASET.xlsx\")\n",
        "\n",
        "X = df[['dD','Virgin']]\n",
        "y = df[['CMC','Water']]\n",
        "\n",
        "model = linear_model.LinearRegression()\n",
        "model.fit(X.values, y.values)\n",
        "\n",
        "prediction = model.predict([[0.05, 1.640]])\n",
        "\n",
        "print(prediction)"
      ]
    }
  ]
}