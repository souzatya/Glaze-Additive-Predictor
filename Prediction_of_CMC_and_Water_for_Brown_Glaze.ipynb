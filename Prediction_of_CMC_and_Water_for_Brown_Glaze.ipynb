{
  "nbformat": 4,
  "nbformat_minor": 0,
  "metadata": {
    "colab": {
      "name": "Prediction_of_CMC_and_Water_for_Brown_Glaze.ipynb",
      "provenance": [],
      "collapsed_sections": [],
      "authorship_tag": "ABX9TyPkGIYQ7Rz+NdT3byDaLNOW",
      "include_colab_link": true
    },
    "kernelspec": {
      "name": "python3",
      "display_name": "Python 3"
    },
    "language_info": {
      "name": "python"
    }
  },
  "cells": [
    {
      "cell_type": "markdown",
      "metadata": {
        "id": "view-in-github",
        "colab_type": "text"
      },
      "source": [
        "<a href=\"https://colab.research.google.com/github/souzatya/abi/blob/main/Prediction_of_CMC_and_Water_for_Brown_Glaze.ipynb\" target=\"_parent\"><img src=\"https://colab.research.google.com/assets/colab-badge.svg\" alt=\"Open In Colab\"/></a>"
      ]
    },
    {
      "cell_type": "markdown",
      "source": [
        "# **`PREDICTION USING LINEAR REGRESSION ALGORITHM`**"
      ],
      "metadata": {
        "id": "-wQMewtqU1wt"
      }
    },
    {
      "cell_type": "code",
      "execution_count": 3,
      "metadata": {
        "colab": {
          "base_uri": "https://localhost:8080/"
        },
        "id": "AY-P081tLUcN",
        "outputId": "065760b0-6d72-4f89-a606-686b17b6cf6a"
      },
      "outputs": [
        {
          "output_type": "stream",
          "name": "stdout",
          "text": [
            "Enter Density of Virgin Glaze (in gm/cc):1.640\n",
            "Enter Required Density for Production (in gm/cc):1.590\n",
            "Enter Required Fluidity for Production (in deg/swing):330\n",
            "\n",
            "Predicted Required amount of CMC: 2.1 gm\n",
            "Predicted Required amount of Water: 116.95 ml\n"
          ]
        }
      ],
      "source": [
        "import pandas\n",
        "from sklearn import linear_model\n",
        "\n",
        "df = pandas.read_excel(\"GLAZE_DATASET.xlsx\")\n",
        "\n",
        "X = df[['dD','fF']]\n",
        "y = df[['CMC','Water']]\n",
        "\n",
        "model = linear_model.LinearRegression()\n",
        "model.fit(X.values, y.values)\n",
        "\n",
        "V = float(input(\"Enter Density of Virgin Glaze (in gm/cc):\"))\n",
        "R = float(input(\"Enter Required Density for Production (in gm/cc):\"))\n",
        "dD = V - R\n",
        "\n",
        "fF = int(input(\"Enter Required Fluidity for Production (in deg/swing):\"))\n",
        "\n",
        "prediction = model.predict([[dD, fF]])\n",
        "\n",
        "print()\n",
        "print(\"Predicted Required amount of CMC:\", round(prediction[0][0], 2), \"gm\")\n",
        "print(\"Predicted Required amount of Water:\", round(prediction[0][1], 2), \"ml\")"
      ]
    }
  ]
}