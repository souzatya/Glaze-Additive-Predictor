{
  "nbformat": 4,
  "nbformat_minor": 0,
  "metadata": {
    "colab": {
      "name": "Prediction_of_CMC_and_Water_for_Brown_Glaze.ipynb",
      "provenance": [],
      "collapsed_sections": [],
      "authorship_tag": "ABX9TyMnJ6QWjt2gSxAglsoeABpw",
      "include_colab_link": true
    },
    "kernelspec": {
      "name": "python3",
      "display_name": "Python 3"
    },
    "language_info": {
      "name": "python"
    }
  },
  "cells": [
    {
      "cell_type": "markdown",
      "metadata": {
        "id": "view-in-github",
        "colab_type": "text"
      },
      "source": [
        "<a href=\"https://colab.research.google.com/github/souzatya/abi/blob/main/Prediction_of_CMC_and_Water_for_Brown_Glaze.ipynb\" target=\"_parent\"><img src=\"https://colab.research.google.com/assets/colab-badge.svg\" alt=\"Open In Colab\"/></a>"
      ]
    },
    {
      "cell_type": "markdown",
      "source": [
        "# **`PREDICTION USING LINEAR REGRESSION ALGORITHM`**"
      ],
      "metadata": {
        "id": "-wQMewtqU1wt"
      }
    },
    {
      "cell_type": "code",
      "execution_count": 74,
      "metadata": {
        "colab": {
          "base_uri": "https://localhost:8080/"
        },
        "id": "AY-P081tLUcN",
        "outputId": "996975c7-d210-486e-8d70-36b9c0610a12"
      },
      "outputs": [
        {
          "output_type": "stream",
          "name": "stdout",
          "text": [
            "Enter Density of Virgin Glaze (in gm/cc):1.640\n",
            "Enter Required Density for Production (in gm/cc):1.590\n",
            "\n",
            "Required amount of CMC: 2.18 gm\n",
            "Required amount of Water: 116.19 ml\n"
          ]
        }
      ],
      "source": [
        "import pandas\n",
        "from sklearn import linear_model\n",
        "\n",
        "df = pandas.read_excel(\"GLAZE_DATASET.xlsx\")\n",
        "\n",
        "X = df[['dD','Virgin']]\n",
        "y = df[['CMC','Water']]\n",
        "\n",
        "model = linear_model.LinearRegression()\n",
        "model.fit(X.values, y.values)\n",
        "\n",
        "V = float(input(\"Enter Density of Virgin Glaze (in gm/cc):\"))\n",
        "R = float(input(\"Enter Required Density for Production (in gm/cc):\"))\n",
        "dD = V - R\n",
        "\n",
        "prediction = model.predict([[dD, V]])\n",
        "\n",
        "print()\n",
        "print(\"Required amount of CMC:\", round(prediction[0][0], 2), \"gm\")\n",
        "print(\"Required amount of Water:\", round(prediction[0][1], 2), \"ml\")"
      ]
    }
  ]
}